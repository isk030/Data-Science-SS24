{
 "cells": [
  {
   "cell_type": "code",
   "execution_count": 65,
   "metadata": {},
   "outputs": [
    {
     "name": "stdout",
     "output_type": "stream",
     "text": [
      "        Name  Population     Area     GDP Currency\n",
      "0    Germany    82521653   357385  3466.0      EUR\n",
      "1      Japan   126045000   377835  4938.0      YEN\n",
      "2     Canada    36503097  9984670  1529.0      CAD\n",
      "3      Italy    60501718   301338  1850.0      EUR\n",
      "4   Brazilia   208360000  8515770  1798.0     REAL\n",
      "5     Taiwan    23938272    36197   744.0      NTD\n",
      "6  Venezuela    28208977   912050     NaN      VED\n"
     ]
    }
   ],
   "source": [
    "import pandas as pd\n",
    "\n",
    "# Load data to pandas dataframe\n",
    "url = \"country.csv\"\n",
    "countries = pd.read_csv(url)\n",
    "print(countries)"
   ]
  },
  {
   "cell_type": "code",
   "execution_count": 66,
   "metadata": {},
   "outputs": [
    {
     "name": "stdout",
     "output_type": "stream",
     "text": [
      "         Population          Area          GDP\n",
      "count  7.000000e+00  7.000000e+00     6.000000\n",
      "mean   8.086839e+07  2.926464e+06  2387.500000\n",
      "std    6.670195e+07  4.348507e+06  1532.497537\n",
      "min    2.393827e+07  3.619700e+04   744.000000\n",
      "25%    3.235604e+07  3.293615e+05  1596.250000\n",
      "50%    6.050172e+07  3.778350e+05  1824.000000\n",
      "75%    1.042833e+08  4.713910e+06  3062.000000\n",
      "max    2.083600e+08  9.984670e+06  4938.000000\n"
     ]
    }
   ],
   "source": [
    "# Display descriptive statistics for the numerical columns\n",
    "numerical_stats = countries.describe()\n",
    "print(numerical_stats)"
   ]
  },
  {
   "cell_type": "code",
   "execution_count": 67,
   "metadata": {},
   "outputs": [
    {
     "name": "stdout",
     "output_type": "stream",
     "text": [
      "        Name  Population     Area     GDP Currency\n",
      "3      Italy    60501718   301338  1850.0      EUR\n",
      "4   Brazilia   208360000  8515770  1798.0     REAL\n",
      "5     Taiwan    23938272    36197   744.0      NTD\n",
      "6  Venezuela    28208977   912050     NaN      VED\n"
     ]
    }
   ],
   "source": [
    "# Show last 4 rows\n",
    "last_four_rows = countries.tail(4)\n",
    "print(last_four_rows)"
   ]
  },
  {
   "cell_type": "code",
   "execution_count": 68,
   "metadata": {},
   "outputs": [
    {
     "name": "stdout",
     "output_type": "stream",
     "text": [
      "      Name  Population    Area     GDP Currency\n",
      "0  Germany    82521653  357385  3466.0      EUR\n",
      "3    Italy    60501718  301338  1850.0      EUR\n"
     ]
    }
   ],
   "source": [
    "# Show all the rows of countries that have the EURO\n",
    "countries_with_euro = countries[countries['Currency'] == 'EUR']\n",
    "print(countries_with_euro)"
   ]
  },
  {
   "cell_type": "code",
   "execution_count": 69,
   "metadata": {},
   "outputs": [
    {
     "name": "stdout",
     "output_type": "stream",
     "text": [
      "      Name  Population    Area     GDP Currency\n",
      "0  Germany    82521653  357385  3466.0      EUR\n",
      "1    Japan   126045000  377835  4938.0      YEN\n"
     ]
    }
   ],
   "source": [
    "# Show only the rows/countries that have more than 2000 GDP\n",
    "countries_high_gdp = countries[countries['GDP'] > 2000]\n",
    "print(countries_high_gdp)"
   ]
  },
  {
   "cell_type": "code",
   "execution_count": 70,
   "metadata": {},
   "outputs": [
    {
     "name": "stdout",
     "output_type": "stream",
     "text": [
      "      Name  Population    Area     GDP Currency\n",
      "0  Germany    82521653  357385  3466.0      EUR\n",
      "1    Japan   126045000  377835  4938.0      YEN\n",
      "3    Italy    60501718  301338  1850.0      EUR\n"
     ]
    }
   ],
   "source": [
    "# Select all countries with inhabitants between 50 and 150 Mio\n",
    "countries_population_in_specific_range = countries[(countries['Population'] >= 50000000) & (countries['Population'] <= 150000000)]\n",
    "print(countries_population_in_specific_range)"
   ]
  },
  {
   "cell_type": "code",
   "execution_count": 71,
   "metadata": {},
   "outputs": [
    {
     "name": "stdout",
     "output_type": "stream",
     "text": [
      "2387.5\n"
     ]
    }
   ],
   "source": [
    "# Calculate the GDP average (ignore the missing value)\n",
    "average_gdp_nan_ignored = countries['GDP'].mean()\n",
    "print(average_gdp_nan_ignored)"
   ]
  },
  {
   "cell_type": "code",
   "execution_count": 73,
   "metadata": {},
   "outputs": [
    {
     "name": "stdout",
     "output_type": "stream",
     "text": [
      "2046.4285714285713\n"
     ]
    }
   ],
   "source": [
    "# Task: Calculate the GDP average (missing value treated as 0)\n",
    "countries['GDP'] = countries['GDP'].fillna(0)\n",
    "average_gdp_with_fillna = countries['GDP'].mean()\n",
    "print(average_gdp_with_fillna)"
   ]
  },
  {
   "cell_type": "code",
   "execution_count": 74,
   "metadata": {},
   "outputs": [
    {
     "name": "stdout",
     "output_type": "stream",
     "text": [
      "        Name  Population     Area     GDP Currency  Population Density\n",
      "0    Germany    82521653   357385  3466.0      EUR          230.904075\n",
      "1      Japan   126045000   377835  4938.0      YEN          333.597999\n",
      "2     Canada    36503097  9984670  1529.0      CAD            3.655914\n",
      "3      Italy    60501718   301338  1850.0      EUR          200.776928\n",
      "4   Brazilia   208360000  8515770  1798.0     REAL           24.467547\n",
      "5     Taiwan    23938272    36197   744.0      NTD          661.333039\n",
      "6  Venezuela    28208977   912050     0.0      VED           30.929200\n"
     ]
    }
   ],
   "source": [
    "# Calculate the population density (population/area) of all countries and add as new column\n",
    "countries['Population Density'] = countries['Population'] / countries['Area']\n",
    "print(countries)"
   ]
  },
  {
   "cell_type": "code",
   "execution_count": 75,
   "metadata": {},
   "outputs": [
    {
     "name": "stdout",
     "output_type": "stream",
     "text": [
      "        Name  Population     Area     GDP Currency  Population Density\n",
      "4   Brazilia   208360000  8515770  1798.0     REAL           24.467547\n",
      "2     Canada    36503097  9984670  1529.0      CAD            3.655914\n",
      "0    Germany    82521653   357385  3466.0      EUR          230.904075\n",
      "3      Italy    60501718   301338  1850.0      EUR          200.776928\n",
      "1      Japan   126045000   377835  4938.0      YEN          333.597999\n",
      "5     Taiwan    23938272    36197   744.0      NTD          661.333039\n",
      "6  Venezuela    28208977   912050     0.0      VED           30.929200\n"
     ]
    }
   ],
   "source": [
    "# Sort by country name alphabetically\n",
    "countries_sorted_by_name = countries.sort_values('Name')\n",
    "print(countries_sorted_by_name)"
   ]
  },
  {
   "cell_type": "code",
   "execution_count": 76,
   "metadata": {},
   "outputs": [
    {
     "name": "stdout",
     "output_type": "stream",
     "text": [
      "        Name  Population   Area     GDP Currency  Population Density\n",
      "0    Germany    82521653  SMALL  3466.0      EUR          230.904075\n",
      "1      Japan   126045000  SMALL  4938.0      YEN          333.597999\n",
      "2     Canada    36503097    BIG  1529.0      CAD            3.655914\n",
      "3      Italy    60501718  SMALL  1850.0      EUR          200.776928\n",
      "4   Brazilia   208360000    BIG  1798.0     REAL           24.467547\n",
      "5     Taiwan    23938272  SMALL   744.0      NTD          661.333039\n",
      "6  Venezuela    28208977  SMALL     0.0      VED           30.929200\n"
     ]
    }
   ],
   "source": [
    "# Create a new data frame where the area is changed: all countries with > 1000000 get \"BIG\" and <= 1000000 get \"SMALL\"\n",
    "area_size_df = countries.copy()\n",
    "area_size_df['Area'] = area_size_df['Area'].apply(lambda x: 'BIG' if x > 1000000 else 'SMALL')\n",
    "\n",
    "print(area_size_df)"
   ]
  }
 ],
 "metadata": {
  "kernelspec": {
   "display_name": "venv",
   "language": "python",
   "name": "python3"
  },
  "language_info": {
   "codemirror_mode": {
    "name": "ipython",
    "version": 3
   },
   "file_extension": ".py",
   "mimetype": "text/x-python",
   "name": "python",
   "nbconvert_exporter": "python",
   "pygments_lexer": "ipython3",
   "version": "3.11.1"
  }
 },
 "nbformat": 4,
 "nbformat_minor": 2
}
